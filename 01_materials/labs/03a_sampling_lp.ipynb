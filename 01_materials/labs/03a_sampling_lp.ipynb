{
 "cells": [
  {
   "cell_type": "code",
   "execution_count": 2,
   "metadata": {},
   "outputs": [
    {
     "name": "stdout",
     "output_type": "stream",
     "text": [
      "The dotenv extension is already loaded. To reload it, use:\n",
      "  %reload_ext dotenv\n"
     ]
    }
   ],
   "source": [
    "%load_ext dotenv \n",
    "%dotenv \n",
    "\n",
    "import os \n",
    "import sys \n",
    "sys.path.append(os.getenv('SRC_DIR'))\n",
    "from logger import get_logger\n",
    "_logs = get_logger(__name__)"
   ]
  },
  {
   "cell_type": "code",
   "execution_count": 3,
   "metadata": {},
   "outputs": [
    {
     "name": "stderr",
     "output_type": "stream",
     "text": [
      "c:\\Users\\david\\miniconda3\\envs\\dsi_participant\\lib\\site-packages\\dask\\dataframe\\_pyarrow_compat.py:17: FutureWarning: Minimal version of pyarrow will soon be increased to 14.0.1. You are using 11.0.0. Please consider upgrading.\n",
      "  warnings.warn(\n",
      "C:\\Users\\david\\AppData\\Local\\Temp\\ipykernel_13664\\2679745383.py:1: DeprecationWarning: The current Dask DataFrame implementation is deprecated. \n",
      "In a future release, Dask DataFrame will use new implementation that\n",
      "contains several improvements including a logical query planning.\n",
      "The user-facing DataFrame API will remain unchanged.\n",
      "\n",
      "The new implementation is already available and can be enabled by\n",
      "installing the dask-expr library:\n",
      "\n",
      "    $ pip install dask-expr\n",
      "\n",
      "and turning the query planning option on:\n",
      "\n",
      "    >>> import dask\n",
      "    >>> dask.config.set({'dataframe.query-planning': True})\n",
      "    >>> import dask.dataframe as dd\n",
      "\n",
      "API documentation for the new implementation is available at\n",
      "https://docs.dask.org/en/stable/dask-expr-api.html\n",
      "\n",
      "Any feedback can be reported on the Dask issue tracker\n",
      "https://github.com/dask/dask/issues \n",
      "\n",
      "  import dask.dataframe as dd\n"
     ]
    }
   ],
   "source": [
    "import dask.dataframe as dd \n",
    "import pandas as pd \n",
    "import numpy as np \n",
    "import os \n",
    "from glob import glob"
   ]
  },
  {
   "cell_type": "code",
   "execution_count": 5,
   "metadata": {},
   "outputs": [],
   "source": [
    "ft_dir = os.getenv(\"FEATURES_DATA\")\n",
    "ft_glob = glob(ft_dir+'/*.parquet')\n",
    "df = dd.read_parquet(ft_glob).compute().reset_index()"
   ]
  },
  {
   "cell_type": "code",
   "execution_count": 7,
   "metadata": {},
   "outputs": [
    {
     "name": "stdout",
     "output_type": "stream",
     "text": [
      "<class 'pandas.core.frame.DataFrame'>\n",
      "RangeIndex: 2780684 entries, 0 to 2780683\n",
      "Data columns (total 15 columns):\n",
      " #   Column           Dtype         \n",
      "---  ------           -----         \n",
      " 0   ticker           object        \n",
      " 1   Date             datetime64[ns]\n",
      " 2   Open             float64       \n",
      " 3   High             float64       \n",
      " 4   Low              float64       \n",
      " 5   Close            float64       \n",
      " 6   Adj Close        float64       \n",
      " 7   Volume           int64         \n",
      " 8   sector           object        \n",
      " 9   subsector        object        \n",
      " 10  year             int32         \n",
      " 11  Close_lag_1      float64       \n",
      " 12  returns          float64       \n",
      " 13  positive_return  int32         \n",
      " 14  target           float64       \n",
      "dtypes: datetime64[ns](1), float64(8), int32(2), int64(1), object(3)\n",
      "memory usage: 297.0+ MB\n"
     ]
    }
   ],
   "source": [
    "df.info()"
   ]
  },
  {
   "cell_type": "code",
   "execution_count": 6,
   "metadata": {},
   "outputs": [
    {
     "data": {
      "text/html": [
       "<div>\n",
       "<style scoped>\n",
       "    .dataframe tbody tr th:only-of-type {\n",
       "        vertical-align: middle;\n",
       "    }\n",
       "\n",
       "    .dataframe tbody tr th {\n",
       "        vertical-align: top;\n",
       "    }\n",
       "\n",
       "    .dataframe thead th {\n",
       "        text-align: right;\n",
       "    }\n",
       "</style>\n",
       "<table border=\"1\" class=\"dataframe\">\n",
       "  <thead>\n",
       "    <tr style=\"text-align: right;\">\n",
       "      <th></th>\n",
       "      <th>ticker</th>\n",
       "      <th>Date</th>\n",
       "      <th>Open</th>\n",
       "      <th>High</th>\n",
       "      <th>Low</th>\n",
       "      <th>Close</th>\n",
       "      <th>Adj Close</th>\n",
       "      <th>Volume</th>\n",
       "      <th>sector</th>\n",
       "      <th>subsector</th>\n",
       "      <th>year</th>\n",
       "      <th>Close_lag_1</th>\n",
       "      <th>returns</th>\n",
       "      <th>positive_return</th>\n",
       "      <th>target</th>\n",
       "    </tr>\n",
       "  </thead>\n",
       "  <tbody>\n",
       "    <tr>\n",
       "      <th>0</th>\n",
       "      <td>HUM</td>\n",
       "      <td>2000-01-03</td>\n",
       "      <td>8.3125</td>\n",
       "      <td>8.375</td>\n",
       "      <td>7.3750</td>\n",
       "      <td>7.5625</td>\n",
       "      <td>6.752523</td>\n",
       "      <td>1287300</td>\n",
       "      <td>Health Care</td>\n",
       "      <td>Managed Health Care</td>\n",
       "      <td>2000</td>\n",
       "      <td>10.0000</td>\n",
       "      <td>-0.243750</td>\n",
       "      <td>0</td>\n",
       "      <td>1.0</td>\n",
       "    </tr>\n",
       "    <tr>\n",
       "      <th>1</th>\n",
       "      <td>HUM</td>\n",
       "      <td>2000-01-04</td>\n",
       "      <td>7.3750</td>\n",
       "      <td>7.875</td>\n",
       "      <td>7.3750</td>\n",
       "      <td>7.6250</td>\n",
       "      <td>6.808329</td>\n",
       "      <td>1238300</td>\n",
       "      <td>Health Care</td>\n",
       "      <td>Managed Health Care</td>\n",
       "      <td>2000</td>\n",
       "      <td>7.5625</td>\n",
       "      <td>0.008264</td>\n",
       "      <td>1</td>\n",
       "      <td>1.0</td>\n",
       "    </tr>\n",
       "    <tr>\n",
       "      <th>2</th>\n",
       "      <td>HUM</td>\n",
       "      <td>2000-01-05</td>\n",
       "      <td>7.5000</td>\n",
       "      <td>7.875</td>\n",
       "      <td>7.5000</td>\n",
       "      <td>7.8125</td>\n",
       "      <td>6.975748</td>\n",
       "      <td>1096300</td>\n",
       "      <td>Health Care</td>\n",
       "      <td>Managed Health Care</td>\n",
       "      <td>2000</td>\n",
       "      <td>7.6250</td>\n",
       "      <td>0.024590</td>\n",
       "      <td>1</td>\n",
       "      <td>1.0</td>\n",
       "    </tr>\n",
       "    <tr>\n",
       "      <th>3</th>\n",
       "      <td>HUM</td>\n",
       "      <td>2000-01-06</td>\n",
       "      <td>7.7500</td>\n",
       "      <td>8.250</td>\n",
       "      <td>7.5000</td>\n",
       "      <td>8.1250</td>\n",
       "      <td>7.254776</td>\n",
       "      <td>1026700</td>\n",
       "      <td>Health Care</td>\n",
       "      <td>Managed Health Care</td>\n",
       "      <td>2000</td>\n",
       "      <td>7.8125</td>\n",
       "      <td>0.040000</td>\n",
       "      <td>1</td>\n",
       "      <td>1.0</td>\n",
       "    </tr>\n",
       "    <tr>\n",
       "      <th>4</th>\n",
       "      <td>HUM</td>\n",
       "      <td>2000-01-07</td>\n",
       "      <td>8.1875</td>\n",
       "      <td>9.125</td>\n",
       "      <td>8.0625</td>\n",
       "      <td>8.7500</td>\n",
       "      <td>7.812837</td>\n",
       "      <td>2419300</td>\n",
       "      <td>Health Care</td>\n",
       "      <td>Managed Health Care</td>\n",
       "      <td>2000</td>\n",
       "      <td>8.1250</td>\n",
       "      <td>0.076923</td>\n",
       "      <td>1</td>\n",
       "      <td>0.0</td>\n",
       "    </tr>\n",
       "  </tbody>\n",
       "</table>\n",
       "</div>"
      ],
      "text/plain": [
       "  ticker       Date    Open   High     Low   Close  Adj Close   Volume  \\\n",
       "0    HUM 2000-01-03  8.3125  8.375  7.3750  7.5625   6.752523  1287300   \n",
       "1    HUM 2000-01-04  7.3750  7.875  7.3750  7.6250   6.808329  1238300   \n",
       "2    HUM 2000-01-05  7.5000  7.875  7.5000  7.8125   6.975748  1096300   \n",
       "3    HUM 2000-01-06  7.7500  8.250  7.5000  8.1250   7.254776  1026700   \n",
       "4    HUM 2000-01-07  8.1875  9.125  8.0625  8.7500   7.812837  2419300   \n",
       "\n",
       "        sector            subsector  year  Close_lag_1   returns  \\\n",
       "0  Health Care  Managed Health Care  2000      10.0000 -0.243750   \n",
       "1  Health Care  Managed Health Care  2000       7.5625  0.008264   \n",
       "2  Health Care  Managed Health Care  2000       7.6250  0.024590   \n",
       "3  Health Care  Managed Health Care  2000       7.8125  0.040000   \n",
       "4  Health Care  Managed Health Care  2000       8.1250  0.076923   \n",
       "\n",
       "   positive_return  target  \n",
       "0                0     1.0  \n",
       "1                1     1.0  \n",
       "2                1     1.0  \n",
       "3                1     1.0  \n",
       "4                1     0.0  "
      ]
     },
     "execution_count": 6,
     "metadata": {},
     "output_type": "execute_result"
    }
   ],
   "source": [
    "df.head()"
   ]
  },
  {
   "cell_type": "markdown",
   "metadata": {},
   "source": [
    "# Sampling in Python"
   ]
  },
  {
   "cell_type": "markdown",
   "metadata": {},
   "source": [
    "+ There are different packages that allow sampling.\n",
    "+ A practical approach is to use pandas/Dask sampling methods."
   ]
  },
  {
   "cell_type": "markdown",
   "metadata": {},
   "source": [
    "## Random Sampling\n",
    "\n",
    "+ Sample n rows from a dataframe with [`df.sample()`](https://pandas.pydata.org/docs/reference/api/pandas.DataFrame.sample.html).\n",
    "\n",
    "```\n",
    "DataFrame.sample(\n",
    "    n=None, frac=None, replace=False, weights=None, \n",
    "    random_state=None, axis=None, ignore_index=False\n",
    "    )\n",
    "```"
   ]
  },
  {
   "cell_type": "code",
   "execution_count": null,
   "metadata": {},
   "outputs": [
    {
     "data": {
      "text/html": [
       "<div>\n",
       "<style scoped>\n",
       "    .dataframe tbody tr th:only-of-type {\n",
       "        vertical-align: middle;\n",
       "    }\n",
       "\n",
       "    .dataframe tbody tr th {\n",
       "        vertical-align: top;\n",
       "    }\n",
       "\n",
       "    .dataframe thead th {\n",
       "        text-align: right;\n",
       "    }\n",
       "</style>\n",
       "<table border=\"1\" class=\"dataframe\">\n",
       "  <thead>\n",
       "    <tr style=\"text-align: right;\">\n",
       "      <th></th>\n",
       "      <th>ticker</th>\n",
       "      <th>Date</th>\n",
       "      <th>Open</th>\n",
       "      <th>High</th>\n",
       "      <th>Low</th>\n",
       "      <th>Close</th>\n",
       "      <th>Adj Close</th>\n",
       "      <th>Volume</th>\n",
       "      <th>sector</th>\n",
       "      <th>subsector</th>\n",
       "      <th>year</th>\n",
       "      <th>Close_lag_1</th>\n",
       "      <th>returns</th>\n",
       "      <th>positive_return</th>\n",
       "      <th>target</th>\n",
       "    </tr>\n",
       "  </thead>\n",
       "  <tbody>\n",
       "    <tr>\n",
       "      <th>2185767</th>\n",
       "      <td>VRTX</td>\n",
       "      <td>2021-10-19</td>\n",
       "      <td>182.059998</td>\n",
       "      <td>185.600006</td>\n",
       "      <td>181.110001</td>\n",
       "      <td>185.410004</td>\n",
       "      <td>185.410004</td>\n",
       "      <td>2011200</td>\n",
       "      <td>Health Care</td>\n",
       "      <td>Biotechnology</td>\n",
       "      <td>2021</td>\n",
       "      <td>180.800003</td>\n",
       "      <td>0.025498</td>\n",
       "      <td>1</td>\n",
       "      <td>1.0</td>\n",
       "    </tr>\n",
       "    <tr>\n",
       "      <th>2435443</th>\n",
       "      <td>DG</td>\n",
       "      <td>2024-07-29</td>\n",
       "      <td>118.099998</td>\n",
       "      <td>119.769997</td>\n",
       "      <td>116.220001</td>\n",
       "      <td>117.360001</td>\n",
       "      <td>116.538620</td>\n",
       "      <td>1810500</td>\n",
       "      <td>Consumer Staples</td>\n",
       "      <td>Consumer Staples Merchandise Retail</td>\n",
       "      <td>2024</td>\n",
       "      <td>118.089996</td>\n",
       "      <td>-0.006182</td>\n",
       "      <td>0</td>\n",
       "      <td>1.0</td>\n",
       "    </tr>\n",
       "    <tr>\n",
       "      <th>765492</th>\n",
       "      <td>FMC</td>\n",
       "      <td>2024-01-24</td>\n",
       "      <td>58.110001</td>\n",
       "      <td>58.439999</td>\n",
       "      <td>56.270000</td>\n",
       "      <td>57.009998</td>\n",
       "      <td>55.415821</td>\n",
       "      <td>1326600</td>\n",
       "      <td>Materials</td>\n",
       "      <td>Fertilizers &amp; Agricultural Chemicals</td>\n",
       "      <td>2024</td>\n",
       "      <td>57.820000</td>\n",
       "      <td>-0.014009</td>\n",
       "      <td>0</td>\n",
       "      <td>1.0</td>\n",
       "    </tr>\n",
       "    <tr>\n",
       "      <th>2634494</th>\n",
       "      <td>TRMB</td>\n",
       "      <td>2014-12-26</td>\n",
       "      <td>27.520000</td>\n",
       "      <td>27.780001</td>\n",
       "      <td>27.250000</td>\n",
       "      <td>27.290001</td>\n",
       "      <td>27.290001</td>\n",
       "      <td>507500</td>\n",
       "      <td>Information Technology</td>\n",
       "      <td>Electronic Equipment &amp; Instruments</td>\n",
       "      <td>2014</td>\n",
       "      <td>27.340000</td>\n",
       "      <td>-0.001829</td>\n",
       "      <td>0</td>\n",
       "      <td>0.0</td>\n",
       "    </tr>\n",
       "    <tr>\n",
       "      <th>2614473</th>\n",
       "      <td>RVTY</td>\n",
       "      <td>2004-06-07</td>\n",
       "      <td>19.850000</td>\n",
       "      <td>20.639999</td>\n",
       "      <td>19.850000</td>\n",
       "      <td>20.620001</td>\n",
       "      <td>17.599592</td>\n",
       "      <td>505800</td>\n",
       "      <td>Health Care</td>\n",
       "      <td>Health Care Equipment</td>\n",
       "      <td>2004</td>\n",
       "      <td>19.750000</td>\n",
       "      <td>0.044051</td>\n",
       "      <td>1</td>\n",
       "      <td>1.0</td>\n",
       "    </tr>\n",
       "  </tbody>\n",
       "</table>\n",
       "</div>"
      ],
      "text/plain": [
       "        ticker       Date        Open        High         Low       Close  \\\n",
       "2185767   VRTX 2021-10-19  182.059998  185.600006  181.110001  185.410004   \n",
       "2435443     DG 2024-07-29  118.099998  119.769997  116.220001  117.360001   \n",
       "765492     FMC 2024-01-24   58.110001   58.439999   56.270000   57.009998   \n",
       "2634494   TRMB 2014-12-26   27.520000   27.780001   27.250000   27.290001   \n",
       "2614473   RVTY 2004-06-07   19.850000   20.639999   19.850000   20.620001   \n",
       "\n",
       "          Adj Close   Volume                  sector  \\\n",
       "2185767  185.410004  2011200             Health Care   \n",
       "2435443  116.538620  1810500        Consumer Staples   \n",
       "765492    55.415821  1326600               Materials   \n",
       "2634494   27.290001   507500  Information Technology   \n",
       "2614473   17.599592   505800             Health Care   \n",
       "\n",
       "                                    subsector  year  Close_lag_1   returns  \\\n",
       "2185767                         Biotechnology  2021   180.800003  0.025498   \n",
       "2435443   Consumer Staples Merchandise Retail  2024   118.089996 -0.006182   \n",
       "765492   Fertilizers & Agricultural Chemicals  2024    57.820000 -0.014009   \n",
       "2634494    Electronic Equipment & Instruments  2014    27.340000 -0.001829   \n",
       "2614473                 Health Care Equipment  2004    19.750000  0.044051   \n",
       "\n",
       "         positive_return  target  \n",
       "2185767                1     1.0  \n",
       "2435443                0     1.0  \n",
       "765492                 0     1.0  \n",
       "2634494                0     0.0  \n",
       "2614473                1     1.0  "
      ]
     },
     "execution_count": 9,
     "metadata": {},
     "output_type": "execute_result"
    }
   ],
   "source": [
    "df.sample(n=5)"
   ]
  },
  {
   "cell_type": "code",
   "execution_count": 10,
   "metadata": {},
   "outputs": [
    {
     "data": {
      "text/plain": [
       "['OXY', 'TXN', 'PCG', 'CBRE', 'ROK', 'AMT', 'D', 'YUM', 'PWR']"
      ]
     },
     "execution_count": 10,
     "metadata": {},
     "output_type": "execute_result"
    }
   ],
   "source": [
    "# select_tickers = df['ticker'].unique().tolist()[0:9]\n",
    "select_tickers = ['OXY', 'TXN', 'PCG', 'CBRE', 'ROK', 'AMT', 'D', 'YUM', 'PWR']\n",
    "select_tickers"
   ]
  },
  {
   "cell_type": "markdown",
   "metadata": {},
   "source": [
    "Look at the distribution of tickers."
   ]
  },
  {
   "cell_type": "code",
   "execution_count": 11,
   "metadata": {},
   "outputs": [
    {
     "data": {
      "text/plain": [
       "((5511, 15), (55109, 15))"
      ]
     },
     "execution_count": 11,
     "metadata": {},
     "output_type": "execute_result"
    }
   ],
   "source": [
    "idx = df['ticker'].isin(select_tickers)\n",
    "small_df = df[idx]\n",
    "simple_sample_dt = small_df.sample(frac = 0.1)\n",
    "simple_sample_dt.shape, small_df.shape"
   ]
  },
  {
   "cell_type": "code",
   "execution_count": 12,
   "metadata": {},
   "outputs": [
    {
     "data": {
      "text/plain": [
       "<Axes: xlabel='ticker'>"
      ]
     },
     "execution_count": 12,
     "metadata": {},
     "output_type": "execute_result"
    },
    {
     "data": {
      "image/png": "[encoded data removed]",
      "text/plain": [
       "<Figure size 640x480 with 1 Axes>"
      ]
     },
     "metadata": {},
     "output_type": "display_data"
    }
   ],
   "source": [
    "small_df['ticker'].value_counts().plot(kind='bar')"
   ]
  },
  {
   "cell_type": "code",
   "execution_count": 13,
   "metadata": {},
   "outputs": [
    {
     "data": {
      "text/plain": [
       "<Axes: xlabel='ticker'>"
      ]
     },
     "execution_count": 13,
     "metadata": {},
     "output_type": "execute_result"
    },
    {
     "data": {
      "image/png": "[encoded data removed]",
      "text/plain": [
       "<Figure size 640x480 with 1 Axes>"
      ]
     },
     "metadata": {},
     "output_type": "display_data"
    }
   ],
   "source": [
    "simple_sample_dt['ticker'].value_counts().plot(kind='bar')"
   ]
  },
  {
   "cell_type": "markdown",
   "metadata": {},
   "source": [
    "## Stratified Sampling\n",
    "\n",
    "+ Use `groupby()` and `.sample()` for stratified sampling."
   ]
  },
  {
   "cell_type": "code",
   "execution_count": 14,
   "metadata": {},
   "outputs": [
    {
     "data": {
      "text/plain": [
       "<Axes: xlabel='ticker'>"
      ]
     },
     "execution_count": 14,
     "metadata": {},
     "output_type": "execute_result"
    },
    {
     "data": {
      "image/png": "[encoded data removed]",
      "text/plain": [
       "<Figure size 640x480 with 1 Axes>"
      ]
     },
     "metadata": {},
     "output_type": "display_data"
    }
   ],
   "source": [
    "strat_sample_dt = small_df.groupby(['ticker']).sample(frac = 0.1)\n",
    "strat_sample_dt['ticker'].value_counts().plot(kind='bar')"
   ]
  },
  {
   "cell_type": "markdown",
   "metadata": {},
   "source": [
    "# Sampling in Dask\n",
    "\n",
    "+ Stratified sampling in `dask` can be achieved with `groupby().apply()` and a lambda function."
   ]
  },
  {
   "cell_type": "code",
   "execution_count": 15,
   "metadata": {},
   "outputs": [
    {
     "name": "stderr",
     "output_type": "stream",
     "text": [
      "C:\\Users\\david\\AppData\\Local\\Temp\\ipykernel_13664\\92420161.py:2: UserWarning: `meta` is not specified, inferred from partial data. Please provide `meta` if the result is unexpected.\n",
      "  Before: .apply(func)\n",
      "  After:  .apply(func, meta={'x': 'f8', 'y': 'f8'}) for dataframe result\n",
      "  or:     .apply(func, meta=('x', 'f8'))            for series result\n",
      "  strat_sample_dd_dt = (dd_dt\n"
     ]
    },
    {
     "data": {
      "text/plain": [
       "<Axes: xlabel='ticker'>"
      ]
     },
     "execution_count": 15,
     "metadata": {},
     "output_type": "execute_result"
    },
    {
     "data": {
      "image/png": "[encoded data removed]",
      "text/plain": [
       "<Figure size 640x480 with 1 Axes>"
      ]
     },
     "metadata": {},
     "output_type": "display_data"
    }
   ],
   "source": [
    "dd_dt = dd.read_parquet(ft_glob)\n",
    "strat_sample_dd_dt = (dd_dt \n",
    "                      .groupby('ticker', group_keys = False)\n",
    "                      .apply(lambda x: x.sample(frac = 0.1))\n",
    "                      .compute()\n",
    "                      .reset_index())\n",
    "strat_sample_dd_dt[strat_sample_dd_dt['ticker'].isin(select_tickers)]['ticker'].value_counts().plot(kind='bar')"
   ]
  }
 ],
 "metadata": {
  "kernelspec": {
   "display_name": "dsi_participant",
   "language": "python",
   "name": "python3"
  },
  "language_info": {
   "codemirror_mode": {
    "name": "ipython",
    "version": 3
   },
   "file_extension": ".py",
   "mimetype": "text/x-python",
   "name": "python",
   "nbconvert_exporter": "python",
   "pygments_lexer": "ipython3",
   "version": "3.9.15"
  }
 },
 "nbformat": 4,
 "nbformat_minor": 2
}
